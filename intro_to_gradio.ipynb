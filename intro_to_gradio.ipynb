{
 "cells": [
  {
   "cell_type": "markdown",
   "id": "78772fb2",
   "metadata": {},
   "source": [
    "# Introduction to Gradio\n",
    "\n",
    "This notebook provides a comprehensive introduction to **Gradio**, a Python library that makes it incredibly easy to create beautiful, interactive web interfaces for machine learning models, APIs, or any Python function.\n",
    "\n",
    "Let's explore what Gradio is and how to use it!"
   ]
  },
  {
   "cell_type": "markdown",
   "id": "95042158",
   "metadata": {},
   "source": [
    "## What is Gradio?\n",
    "\n",
    "**Gradio** is a Python library that makes it incredibly easy to create beautiful, interactive web interfaces for machine learning models, APIs, or any Python function. \n",
    "\n",
    "### What Gradio allows you to do:\n",
    "\n",
    "- **Create web UIs quickly** - Turn any Python function into a web interface with just a few lines of code\n",
    "- **Share your work easily** - Generate shareable links to your interfaces\n",
    "- **Support multiple input/output types** - Handle text, images, audio, video, and more\n",
    "- **Integrate with ML frameworks** - Works seamlessly with PyTorch, TensorFlow, Hugging Face, etc.\n",
    "\n",
    "### Why use Gradio?\n",
    "\n",
    "1. **Rapid prototyping** - Build demos in minutes, not hours\n",
    "2. **No web development knowledge required** - Pure Python approach\n",
    "3. **Automatic UI generation** - Gradio infers the best UI components based on your function\n",
    "4. **Easy deployment** - Share your app with a public URL or deploy to Hugging Face Spaces"
   ]
  },
  {
   "cell_type": "markdown",
   "id": "ad5aaa78",
   "metadata": {},
   "source": [
    "## Installing Gradio\n",
    "\n",
    "Let's install Gradio in our environment using uv:"
   ]
  },
  {
   "cell_type": "code",
   "execution_count": 1,
   "id": "2bff9cbf",
   "metadata": {},
   "outputs": [
    {
     "name": "stdout",
     "output_type": "stream",
     "text": [
      "\u001b[1m\u001b[33mwarning\u001b[39m\u001b[0m\u001b[1m:\u001b[0m \u001b[1mNo `requires-python` value found in the workspace. Defaulting to `>=3.12`.\u001b[0m\n",
      "\u001b[2mResolved \u001b[1m393 packages\u001b[0m \u001b[2min 2ms\u001b[0m\u001b[0m\n",
      "\u001b[2mAudited \u001b[1m224 packages\u001b[0m \u001b[2min 0.06ms\u001b[0m\u001b[0m\n"
     ]
    }
   ],
   "source": [
    "# Install Gradio using uv\n",
    "!uv add gradio"
   ]
  },
  {
   "cell_type": "markdown",
   "id": "5920fa75",
   "metadata": {},
   "source": [
    "## Simple Gradio Example\n",
    "\n",
    "Let's create a very simple Gradio interface that takes a name and greeting type, and returns a personalized greeting:"
   ]
  },
  {
   "cell_type": "code",
   "execution_count": null,
   "id": "effe227a",
   "metadata": {},
   "outputs": [
    {
     "name": "stdout",
     "output_type": "stream",
     "text": [
      "* Running on local URL:  http://127.0.0.1:7860\n",
      "* Running on public URL: https://2d2c3cc6903ffe48da.gradio.live\n",
      "\n",
      "This share link expires in 1 week. For free permanent hosting and GPU upgrades, run `gradio deploy` from the terminal in the working directory to deploy to Hugging Face Spaces (https://huggingface.co/spaces)\n"
     ]
    }
   ],
   "source": [
    "import gradio as gr\n",
    "\n",
    "def greet(name, greeting_type):\n",
    "    \"\"\"Simple function that creates a personalized greeting\"\"\"\n",
    "    if greeting_type == \"Formal\":\n",
    "        return f\"Good day, {name}! I hope you're having a wonderful time.\"\n",
    "    elif greeting_type == \"Casual\":\n",
    "        return f\"Hey {name}! What's up?\"\n",
    "    else:  # Friendly\n",
    "        return f\"Hello {name}! Nice to meet you!\"\n",
    "\n",
    "# Create the Gradio interface\n",
    "demo = gr.Interface(\n",
    "    fn=greet,\n",
    "    inputs=[\n",
    "        gr.Textbox(label=\"Your Name\", placeholder=\"Enter your name here...\"),\n",
    "        gr.Dropdown([\"Formal\", \"Casual\", \"Friendly\"], label=\"Greeting Type\", value=\"Friendly\")\n",
    "    ],\n",
    "    outputs=gr.Textbox(label=\"Greeting\"),\n",
    "    title=\"Simple Greeting App\",\n",
    "    description=\"Enter your name and choose a greeting style!\"\n",
    ")\n",
    "\n",
    "# Launch the interface\n",
    "demo.launch(share=True)  # Use share=True to get a public link"
   ]
  },
  {
   "cell_type": "markdown",
   "id": "e058a6a2",
   "metadata": {},
   "source": [
    "## Summary\n",
    "\n",
    "In this notebook, we covered:\n",
    "\n",
    "### Gradio Basics:\n",
    "- What Gradio is and why it's useful for creating web interfaces\n",
    "- Installing Gradio using uv\n",
    "- Creating a simple interactive web interface with text input and dropdown\n",
    "\n",
    "### Next Steps:\n",
    "- Experiment with different input/output types in Gradio (images, audio, files, etc.)\n",
    "- Try creating interfaces for different types of functions\n",
    "- Explore advanced Gradio features like:\n",
    "  - Custom components\n",
    "  - Real-time interfaces\n",
    "  - File uploads and downloads\n",
    "  - Integration with machine learning models\n",
    "  - Deployment to Hugging Face Spaces\n",
    "\n",
    "### Resources:\n",
    "- [Gradio Documentation](https://gradio.app/docs/)\n",
    "- [Gradio Gallery](https://gradio.app/gallery) - Examples and inspiration\n",
    "- [Hugging Face Spaces](https://huggingface.co/spaces) - Deploy your Gradio apps\n",
    "\n",
    "Happy building! 🚀"
   ]
  }
 ],
 "metadata": {
  "kernelspec": {
   "display_name": "code",
   "language": "python",
   "name": "python3"
  },
  "language_info": {
   "codemirror_mode": {
    "name": "ipython",
    "version": 3
   },
   "file_extension": ".py",
   "mimetype": "text/x-python",
   "name": "python",
   "nbconvert_exporter": "python",
   "pygments_lexer": "ipython3",
   "version": "3.12.1"
  }
 },
 "nbformat": 4,
 "nbformat_minor": 5
}
