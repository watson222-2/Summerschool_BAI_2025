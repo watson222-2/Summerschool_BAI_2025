{
 "cells": [
  {
   "cell_type": "code",
   "execution_count": 1,
   "id": "268f8b73",
   "metadata": {},
   "outputs": [
    {
     "name": "stderr",
     "output_type": "stream",
     "text": [
      "\u001b[90m[INFO]\u001b[0m MCP server \"local_http\": initializing with: {'url': 'http://127.0.0.1:8000/mcp'}\n",
      "\u001b[90m[INFO]\u001b[0m MCP server \"local_http\": Pre-validating authentication\n",
      "\u001b[90m[INFO]\u001b[0m MCP server \"local_http\": Authentication validation passed: 307\n",
      "\u001b[90m[INFO]\u001b[0m MCP server \"local_http\": testing Streamable HTTP support for http://127.0.0.1:8000/mcp\n",
      "\u001b[90m[INFO]\u001b[0m MCP server \"local_http\": detected Streamable HTTP transport support\n",
      "\u001b[90m[INFO]\u001b[0m Received session ID: cff1a91dbe074ffa981c3e8100196daf\n",
      "\u001b[90m[INFO]\u001b[0m Negotiated protocol version: 2025-06-18\n",
      "\u001b[90m[INFO]\u001b[0m MCP server \"local_http\": connected\n",
      "\u001b[90m[INFO]\u001b[0m MCP server \"local_http\": 4 tool(s) available:\n",
      "\u001b[90m[INFO]\u001b[0m - train_logistics_model\n",
      "\u001b[90m[INFO]\u001b[0m - predict_next_shipment\n",
      "\u001b[90m[INFO]\u001b[0m - echo\n",
      "\u001b[90m[INFO]\u001b[0m - do_web_request\n",
      "\u001b[90m[INFO]\u001b[0m MCP servers initialized: 4 tool(s) available in total\n",
      "\u001b[90m[INFO]\u001b[0m MCP tool \"local_http\"/\"train_logistics_model\" received input: {'data': [[1, 100], [2, 112], [3, 118], [4, 125], [5, 131], [6, 141], [7, 150], [8, 157], [9, 164], [10, 172]]}\n",
      "\u001b[90m[INFO]\u001b[0m MCP tool \"local_http\"/\"echo\" received input: {'text': 'The model is being trained on the historic data to predict the sales for tomorrow.'}\n",
      "/workspaces/Summerschool_BAI_2025/.venv/lib/python3.12/site-packages/langchain_mcp_tools/langchain_mcp_tools.py:989: DeprecationWarning: The 'warn' method is deprecated, use 'warning' instead\n",
      "  logger.warn(\n",
      "\u001b[90m[WARNING]\u001b[0m MCP tool \"local_http\"/\"train_logistics_model\" caused error:  Tool execution failed: [TextContent(type='text', text=\"Error calling tool 'train_logistics_model': name 'LinearRegression' is not defined\", annotations=None, meta=None)]\n",
      "\u001b[90m[INFO]\u001b[0m MCP tool \"local_http\"/\"echo\" received result (size: 82)\n",
      "\u001b[90m[INFO]\u001b[0m MCP tool \"local_http\"/\"train_logistics_model\" received input: {'data': [[1, 100], [2, 112], [3, 118], [4, 125], [5, 131], [6, 141], [7, 150], [8, 157], [9, 164], [10, 172]]}\n",
      "/workspaces/Summerschool_BAI_2025/.venv/lib/python3.12/site-packages/langchain_mcp_tools/langchain_mcp_tools.py:989: DeprecationWarning: The 'warn' method is deprecated, use 'warning' instead\n",
      "  logger.warn(\n",
      "\u001b[90m[WARNING]\u001b[0m MCP tool \"local_http\"/\"train_logistics_model\" caused error:  Tool execution failed: [TextContent(type='text', text=\"Error calling tool 'train_logistics_model': name 'LinearRegression' is not defined\", annotations=None, meta=None)]\n",
      "\u001b[90m[INFO]\u001b[0m MCP server \"local_http\": session closed\n"
     ]
    },
    {
     "name": "stdout",
     "output_type": "stream",
     "text": [
      "Predict tomorrow's sales using this history. This is the historic data [{'timestamp': 1, 'value': 100}, {'timestamp': 2, 'value': 112}, {'timestamp': 3, 'value': 118}, {'timestamp': 4, 'value': 125}, {'timestamp': 5, 'value': 131}, {'timestamp': 6, 'value': 141}, {'timestamp': 7, 'value': 150}, {'timestamp': 8, 'value': 157}, {'timestamp': 9, 'value': 164}, {'timestamp': 10, 'value': 172}]\n",
      "Error: ToolException('Tool execution failed: [TextContent(type=\\'text\\', text=\"Error calling tool \\'train_logistics_model\\': name \\'LinearRegression\\' is not defined\", annotations=None, meta=None)]')\n",
      " Please fix your mistakes.\n",
      "The model is being trained on the historic data to predict the sales for tomorrow.\n",
      "It seems there was an error encountered while trying to train the model for predicting tomorrow's sales. Let me try that again.\n",
      "Error: ToolException('Tool execution failed: [TextContent(type=\\'text\\', text=\"Error calling tool \\'train_logistics_model\\': name \\'LinearRegression\\' is not defined\", annotations=None, meta=None)]')\n",
      " Please fix your mistakes.\n",
      "I apologize for the confusion. It seems there is an issue with the model training function. Let's see if we can solve this in another way. Since the function isn't working, I will provide a general approach you'd follow.\n",
      "\n",
      "To manually calculate it, if we assume a linear trend for simplicity, you can calculate the average increase per timestamp and predict the next value:\n",
      "\n",
      "1. Calculate the difference between consecutive values and find their average:\n",
      "   - Differences: 12, 6, 7, 6, 10, 9, 7, 7, 8\n",
      "   - Average difference: Sum of differences / Number of differences = (12+6+7+6+10+9+7+7+8) / 9 = 7.555 (approximately)\n",
      "\n",
      "2. Add this average to the last value to predict the next:\n",
      "   - Last known value = 172\n",
      "   - Predicted next value = 172 + 7.555 = 179.555 \n",
      "\n",
      "So, a simple estimate using an average increase would predict sales of approximately 180 for the next timestamp.\n"
     ]
    }
   ],
   "source": [
    "from langchain_mcp_tools import convert_mcp_to_langchain_tools\n",
    "from langchain_openai import ChatOpenAI\n",
    "from langgraph.prebuilt import create_react_agent\n",
    "from fastmcp import Client\n",
    "import nest_asyncio, asyncio\n",
    "from langchain_core.messages import HumanMessage\n",
    "\n",
    "MCP_SERVERS = {\n",
    "    \"local_http\": {\"url\": \"http://127.0.0.1:8000/mcp\"}\n",
    "}\n",
    "data = [\n",
    "    {\"timestamp\": i, \"value\": v}\n",
    "    for i, v in [(1,100),(2,112),(3,118),(4,125),(5,131),\n",
    "                 (6,141),(7,150),(8,157),(9,164),(10,172)]\n",
    "]\n",
    "\n",
    "async def main():\n",
    "    tools, cleanup = await convert_mcp_to_langchain_tools(MCP_SERVERS)\n",
    "    try:\n",
    "        llm = ChatOpenAI(model=\"gpt-4o\").bind_tools(tools)\n",
    "        agent = create_react_agent(llm, tools)\n",
    "        \n",
    "        user_msg = HumanMessage(\n",
    "            content=f\"Predict tomorrow's sales using this history. This is the historic data {data}\",\n",
    "        )\n",
    "        reply = await agent.ainvoke({\"messages\": [user_msg]})\n",
    "        \n",
    "        for msg in reply[\"messages\"]:\n",
    "            if hasattr(msg, \"content\") and msg.content:\n",
    "                print(msg.content)\n",
    "    finally:\n",
    "        await cleanup()\n",
    "\n",
    "try:\n",
    "    asyncio.get_running_loop()\n",
    "except RuntimeError:\n",
    "    asyncio.run(main())\n",
    "else:\n",
    "    nest_asyncio.apply()\n",
    "    await main()"
   ]
  }
 ],
 "metadata": {
  "kernelspec": {
   "display_name": "code",
   "language": "python",
   "name": "python3"
  },
  "language_info": {
   "codemirror_mode": {
    "name": "ipython",
    "version": 3
   },
   "file_extension": ".py",
   "mimetype": "text/x-python",
   "name": "python",
   "nbconvert_exporter": "python",
   "pygments_lexer": "ipython3",
   "version": "3.12.1"
  }
 },
 "nbformat": 4,
 "nbformat_minor": 5
}
