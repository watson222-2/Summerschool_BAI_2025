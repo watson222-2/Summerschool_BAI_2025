{
 "cells": [
  {
   "cell_type": "markdown",
   "id": "e6df3e6f",
   "metadata": {},
   "source": [
    "# Real Estate Property Lookup Agent Tool\n",
    "\n",
    "This notebook demonstrates how to build a LangChain agent tool for real estate property lookup. The tool accepts locale, price range, and number of rooms as input, and returns a JSON list of up to 10 property listings with key attributes suitable for display or use by other agents."
   ]
  },
  {
   "cell_type": "code",
   "execution_count": null,
   "id": "2ebb6e43",
   "metadata": {},
   "outputs": [],
   "source": [
    "# Import Required Libraries\n",
    "from typing import List, Dict, Any\n",
    "import random\n",
    "import json\n",
    "\n",
    "# If using LangChain, import relevant modules (mocked here for demonstration)\n",
    "try:\n",
    "    from langchain.tools import Tool\n",
    "    from langchain.agents import initialize_agent, AgentType\n",
    "    from langchain.llms import OpenAI\n",
    "except ImportError:\n",
    "    Tool = None\n",
    "    initialize_agent = None\n",
    "    AgentType = None\n",
    "    OpenAI = None"
   ]
  },
  {
   "cell_type": "markdown",
   "id": "ff135e36",
   "metadata": {},
   "source": [
    "## Define Property Lookup Tool Function\n",
    "\n",
    "We will implement a function that takes locale, price range, and number of rooms as input, queries a mock property data source, and returns up to 10 property listings as a JSON list with key attributes (address, price, rooms, description, image_url)."
   ]
  },
  {
   "cell_type": "code",
   "execution_count": null,
   "id": "cbe0b4df",
   "metadata": {},
   "outputs": [],
   "source": [
    "def property_lookup(locale: str, price_min: int, price_max: int, num_rooms: int) -> List[Dict[str, Any]]:\n",
    "    \"\"\"\n",
    "    Mock function to return up to 10 property listings based on input criteria.\n",
    "    \"\"\"\n",
    "    # Mock property data\n",
    "    mock_properties = []\n",
    "    for i in range(30):\n",
    "        price = random.randint(50000, 1000000)\n",
    "        rooms = random.randint(1, 6)\n",
    "        property_locale = random.choice([locale, \"OtherTown\", \"NearbyCity\"])\n",
    "        mock_properties.append({\n",
    "            \"address\": f\"{i+1} Main St, {property_locale}\",\n",
    "            \"price\": price,\n",
    "            \"rooms\": rooms,\n",
    "            \"description\": f\"A lovely {rooms}-room property in {property_locale}.\",\n",
    "            \"image_url\": f\"https://example.com/property_{i+1}.jpg\"\n",
    "        })\n",
    "    # Filter by criteria\n",
    "    filtered = [p for p in mock_properties if p[\"price\"] >= price_min and p[\"price\"] <= price_max and p[\"rooms\"] == num_rooms and p[\"address\"].endswith(locale)]\n",
    "    # Return up to 10\n",
    "    return filtered[:10]\n",
    "\n",
    "# Example usage:\n",
    "example_results = property_lookup(\"SampleTown\", 200000, 800000, 3)\n",
    "print(json.dumps(example_results, indent=2))"
   ]
  },
  {
   "cell_type": "markdown",
   "id": "336ae3b8",
   "metadata": {},
   "source": [
    "## Integrate Tool with LangChain Agent\n",
    "\n",
    "Now, we will create a LangChain agent and register the property lookup tool so the agent can use it to answer queries."
   ]
  },
  {
   "cell_type": "code",
   "execution_count": null,
   "id": "586cff3e",
   "metadata": {},
   "outputs": [],
   "source": [
    "# Register the property lookup tool with LangChain agent\n",
    "\n",
    "def property_lookup_tool_func(input_str: str) -> str:\n",
    "    # Parse input string (simple parsing for demonstration)\n",
    "    import re\n",
    "    locale = re.search(r\"locale=([^,]+)\", input_str)\n",
    "    price_min = re.search(r\"price_min=(\\d+)\", input_str)\n",
    "    price_max = re.search(r\"price_max=(\\d+)\", input_str)\n",
    "    num_rooms = re.search(r\"num_rooms=(\\d+)\", input_str)\n",
    "    locale = locale.group(1) if locale else \"SampleTown\"\n",
    "    price_min = int(price_min.group(1)) if price_min else 0\n",
    "    price_max = int(price_max.group(1)) if price_max else 1_000_000\n",
    "    num_rooms = int(num_rooms.group(1)) if num_rooms else 3\n",
    "    results = property_lookup(locale, price_min, price_max, num_rooms)\n",
    "    return json.dumps(results)\n",
    "\n",
    "# Mock LLM for demonstration if OpenAI is not available\n",
    "class MockLLM:\n",
    "    def __call__(self, prompt):\n",
    "        return \"locale=SampleTown, price_min=200000, price_max=800000, num_rooms=3\"\n",
    "\n",
    "llm = OpenAI() if OpenAI else MockLLM()\n",
    "\n",
    "if Tool and initialize_agent and AgentType:\n",
    "    property_tool = Tool(\n",
    "        name=\"PropertyLookup\",\n",
    "        func=property_lookup_tool_func,\n",
    "        description=\"Lookup real estate properties by locale, price range, and number of rooms.\"\n",
    "    )\n",
    "    agent = initialize_agent([property_tool], llm, agent=AgentType.ZERO_SHOT_REACT_DESCRIPTION, verbose=True)\n",
    "else:\n",
    "    property_tool = None\n",
    "    agent = None"
   ]
  },
  {
   "cell_type": "markdown",
   "id": "f8a4d38c",
   "metadata": {},
   "source": [
    "## Test Agent with Sample Inputs\n",
    "\n",
    "Let's test the agent with example queries specifying locale, price range, and number of rooms to verify correct tool invocation and output."
   ]
  },
  {
   "cell_type": "code",
   "execution_count": null,
   "id": "d0b6a5a6",
   "metadata": {},
   "outputs": [],
   "source": [
    "# Test the agent with a sample query\n",
    "\n",
    "sample_query = \"Find properties in SampleTown with 3 rooms between $200,000 and $800,000.\"\n",
    "\n",
    "if agent:\n",
    "    response = agent.run(sample_query)\n",
    "    print(\"Agent Output:\", response)\n",
    "else:\n",
    "    # Directly call the tool function for demonstration\n",
    "    input_str = \"locale=SampleTown, price_min=200000, price_max=800000, num_rooms=3\"\n",
    "    response = property_lookup_tool_func(input_str)\n",
    "    print(\"Tool Output:\", response)\n",
    "\n",
    "# Parse the JSON output for further display\n",
    "parsed_results = json.loads(response)"
   ]
  },
  {
   "cell_type": "markdown",
   "id": "24c461b3",
   "metadata": {},
   "source": [
    "## Format and Display Agent Output\n",
    "\n",
    "Format the agent's JSON output for readability and display the property listings in a user-friendly way."
   ]
  },
  {
   "cell_type": "code",
   "execution_count": null,
   "id": "3984dfc6",
   "metadata": {},
   "outputs": [],
   "source": [
    "# Display the property listings in a user-friendly way\n",
    "import pandas as pd\n",
    "from IPython.display import display, HTML\n",
    "\n",
    "if parsed_results:\n",
    "    df = pd.DataFrame(parsed_results)\n",
    "    display(HTML(df.to_html(index=False)))\n",
    "else:\n",
    "    print(\"No properties found matching the criteria.\")"
   ]
  }
 ],
 "metadata": {
  "language_info": {
   "name": "python"
  }
 },
 "nbformat": 4,
 "nbformat_minor": 5
}
